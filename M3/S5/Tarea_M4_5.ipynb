{
  "nbformat": 4,
  "nbformat_minor": 0,
  "metadata": {
    "colab": {
      "name": "Tarea M4-5.ipynb",
      "provenance": [],
      "include_colab_link": true
    },
    "kernelspec": {
      "name": "python3",
      "display_name": "Python 3"
    },
    "language_info": {
      "name": "python"
    }
  },
  "cells": [
    {
      "cell_type": "markdown",
      "metadata": {
        "id": "view-in-github",
        "colab_type": "text"
      },
      "source": [
        "<a href=\"https://colab.research.google.com/github/Saharic/Python/blob/main/M3/S5/Tarea_M4_5.ipynb\" target=\"_parent\"><img src=\"https://colab.research.google.com/assets/colab-badge.svg\" alt=\"Open In Colab\"/></a>"
      ]
    },
    {
      "cell_type": "markdown",
      "source": [
        "## Riesgo de mercado ( Simulación Montecarlo [Cholesky])\n",
        "\n",
        "1. Construir ${\\Delta X}_{n\\times m}$ que es la matriz de diferencias basados en el operador $T_j$ (\t\tdonde $T_1(x)=\\ln(x)$ ó $T_2(x)=x-1$), es decir $${\\Delta X}_\\tau=\\Big[ T_j(\\frac{x_{t,1}}{x_{t+\\tau,1}}), T_j(\\frac{x_{t,2}}{x_{t+\\tau,2}}),\\ldots, T_j(\\frac{x_{t,m}}{x_{t+\\tau,m}})\\Big]\\quad t=0,1,\\ldots, n-1.$$\n",
        "2. Calcular la matriz de correlación de ${\\Delta X}_\\tau$, i.e. $\\Omega=Corr({\\Delta X}_\\tau)$. \\\\\n",
        "3. Factorizar $\\Omega=AA^\\top$. \\\\\n",
        "4. Analizar la distribución individual de las variaciones de los factores de riesgo ${\\Delta X}_{\\tau,k}$ ($k=1,\\ldots,m$) para ajustar a una función de distribución paramétrica conocida ó utilizar la función empírica tal cual.\n",
        "5. Calcular matriz $S$ de $N\\times m$ valores con $$S_{i\\cdot}=\\Big[F^{-1}_{{\\Delta X}_{\\tau,1}}(\\alpha_{i 1}),\\ldots,F^{-1}_{{\\Delta X}_{\\tau,m}}(\\alpha_{i m})\\Big]$$ donde $\\alpha_{i\\cdot}\\sim U(0,1)$ con $N\\times m$ valores a.i.i.d. simulados, y $F^{-1}_{{\\Delta X}_{\\tau,k}}$ es la inversa de la distribución empírica o paramétrica (seleccionada en el paso anterior) de las variaciones del factor de riesgo $k$, i.e. de ${\\Delta X}_{\\tau,k}$ ($k=1,\\ldots,m$).\n",
        "6. Calcular matriz $\\Delta X_{s_\\tau}$ como $\\Delta X_{s_\\tau}=S\\cdot A^\\top$. \n",
        "7. Construir ${X}_{s_{N\\times m}}$ que es la matriz de factores de riesgo simulada basada en el vector de precios actual $X_{00}$\n",
        "$$X_{s_{i\\cdot}}=\\Big[x_{0,1}T^{-1}_j(\\Delta x_{s_{i1}}), \\ldots, x_{0,m}T^{-1}_j(\\Delta x_{s_{im}})\\Big]\\quad (i=1,\\ldots,N\\quad j=1\\, \\textrm{ó}\\, 2),$$\n",
        "8. Construcción de la matriz de reevaluación del portafolio basada en los escenarios simulados $Y_{N\\times r}$ de todos los instrumentos financieros, es decir $$Y_z=[m_1f_1(X_{s_z}), m_2f_2(X_{s_z}),\\ldots, m_rf_r(X_{s_z})]\\quad (z=1,\\ldots,N).$$\n",
        "9. Construcción de la matriz de pérdidas y ganancias del portafolio basada en los escenarios simulados $\\Delta Y_{N\\times r}$ de todos los instrumentos financieros, es decir $$\\Delta Y_{z\\cdot}=Y_z-Y_{0}=[m_1(f_1(X_{s_{z\\cdot}})-f_1(X_{00})),\\ldots, m_r(f_r(X_{s_{z\\cdot}})-f_r(X_{00}))],$$\n",
        " para $(z=1,\\ldots,N)$. Se puede obtener el vector de pérdidas totales ${\\Delta YT}_{N}$ muy fácilmente, esto es $\\Delta YT=\\sum_{k=1}^r Y_{z\\cdot}$ $(z=1,\\ldots,N)$, incluso se puede hacer lo mismo por tipo de riesgo, ya que para cada tipo de riesgo pueden existir diferentes instrumentos, lo único que se tiene que hacer es sumar los instrumentos de un mismo tipo de riesgo por escenario.\n",
        "10. Obtener las medidas de riesgo deseada de la matriz ${\\Delta Y}_{\\cdot k}$ $(k=1,\\ldots,r)$ y $\\Delta YT$, ejemplo se puede calcular $VaR_\\alpha({\\Delta Y}_{\\cdot k})$, $CVaR_\\alpha({\\Delta Y}_{\\cdot k})$, $CeR_\\alpha({\\Delta Y}_{\\cdot k})$, $\\mu(\\Delta Y_{\\cdot k})$, $\\sigma(\\Delta Y_{\\cdot k})$, etc. para $k=1,\\ldots,r$. \n"
      ],
      "metadata": {
        "id": "GnZHhZXHIwks"
      }
    },
    {
      "cell_type": "code",
      "source": [
        "import numpy as np\n",
        "!pip install yfinance\n",
        "import yfinance as yf\n",
        "import pandas as pd\n"
      ],
      "metadata": {
        "colab": {
          "base_uri": "https://localhost:8080/"
        },
        "id": "8XrmhgyYmgxc",
        "outputId": "da7a3b27-cea9-4069-feb3-162377be28da"
      },
      "execution_count": 183,
      "outputs": [
        {
          "output_type": "stream",
          "name": "stdout",
          "text": [
            "Requirement already satisfied: yfinance in /usr/local/lib/python3.7/dist-packages (0.1.70)\n",
            "Requirement already satisfied: numpy>=1.15 in /usr/local/lib/python3.7/dist-packages (from yfinance) (1.21.5)\n",
            "Requirement already satisfied: lxml>=4.5.1 in /usr/local/lib/python3.7/dist-packages (from yfinance) (4.8.0)\n",
            "Requirement already satisfied: multitasking>=0.0.7 in /usr/local/lib/python3.7/dist-packages (from yfinance) (0.0.10)\n",
            "Requirement already satisfied: pandas>=0.24.0 in /usr/local/lib/python3.7/dist-packages (from yfinance) (1.3.5)\n",
            "Requirement already satisfied: requests>=2.26 in /usr/local/lib/python3.7/dist-packages (from yfinance) (2.27.1)\n",
            "Requirement already satisfied: python-dateutil>=2.7.3 in /usr/local/lib/python3.7/dist-packages (from pandas>=0.24.0->yfinance) (2.8.2)\n",
            "Requirement already satisfied: pytz>=2017.3 in /usr/local/lib/python3.7/dist-packages (from pandas>=0.24.0->yfinance) (2018.9)\n",
            "Requirement already satisfied: six>=1.5 in /usr/local/lib/python3.7/dist-packages (from python-dateutil>=2.7.3->pandas>=0.24.0->yfinance) (1.15.0)\n",
            "Requirement already satisfied: idna<4,>=2.5 in /usr/local/lib/python3.7/dist-packages (from requests>=2.26->yfinance) (2.10)\n",
            "Requirement already satisfied: urllib3<1.27,>=1.21.1 in /usr/local/lib/python3.7/dist-packages (from requests>=2.26->yfinance) (1.24.3)\n",
            "Requirement already satisfied: charset-normalizer~=2.0.0 in /usr/local/lib/python3.7/dist-packages (from requests>=2.26->yfinance) (2.0.12)\n",
            "Requirement already satisfied: certifi>=2017.4.17 in /usr/local/lib/python3.7/dist-packages (from requests>=2.26->yfinance) (2021.10.8)\n"
          ]
        }
      ]
    },
    {
      "cell_type": "code",
      "source": [
        "start = '2020-01-01'\n",
        "\n",
        "symbol = ['AAPL','MSFT','SQ','AMZN']\n",
        "stock_data = yf.download(symbol,start)"
      ],
      "metadata": {
        "colab": {
          "base_uri": "https://localhost:8080/"
        },
        "id": "D443fJ-QmkqP",
        "outputId": "bcfa92d9-ba39-40e9-88f7-79b4aabc4f64"
      },
      "execution_count": 184,
      "outputs": [
        {
          "output_type": "stream",
          "name": "stdout",
          "text": [
            "[*********************100%***********************]  4 of 4 completed\n"
          ]
        }
      ]
    },
    {
      "cell_type": "code",
      "source": [
        "# 1. Matriz de diferencias\n",
        "print(stock_data.Close.head(5))\n",
        "\n",
        "X=stock_data.Close\n",
        "X0=stock_data.Close.tail(1)\n",
        "DeltaX=np.log(stock_data.Close/stock_data.Close.shift(1))\n",
        "\n",
        "DeltaX.head\n",
        "print(X0)"
      ],
      "metadata": {
        "colab": {
          "base_uri": "https://localhost:8080/"
        },
        "id": "dm5__q5vms96",
        "outputId": "bfade5c6-f70f-4c6f-dc41-b65ed63270f4"
      },
      "execution_count": 186,
      "outputs": [
        {
          "output_type": "stream",
          "name": "stdout",
          "text": [
            "                 AAPL         AMZN        MSFT         SQ\n",
            "Date                                                     \n",
            "2020-01-02  75.087502  1898.010010  160.619995  63.830002\n",
            "2020-01-03  74.357498  1874.969971  158.619995  63.000000\n",
            "2020-01-06  74.949997  1902.880005  159.029999  62.570000\n",
            "2020-01-07  74.597504  1906.859985  157.580002  64.589996\n",
            "2020-01-08  75.797501  1891.969971  160.089996  67.599998\n",
            "                  AAPL         AMZN        MSFT          SQ\n",
            "Date                                                       \n",
            "2022-03-10  158.520004  2936.350098  285.589996  108.870003\n"
          ]
        }
      ]
    },
    {
      "cell_type": "code",
      "source": [
        "# 2. Matriz de correlación\n",
        "CORR=np.corrcoef(DeltaX.dropna().T)\n",
        "\n",
        "print(CORR)"
      ],
      "metadata": {
        "colab": {
          "base_uri": "https://localhost:8080/"
        },
        "id": "EZLKRnaPlWbQ",
        "outputId": "47357766-488e-48fa-fca2-c8b478025693"
      },
      "execution_count": 187,
      "outputs": [
        {
          "output_type": "stream",
          "name": "stdout",
          "text": [
            "[[1.         0.64051293 0.80549064 0.54193161]\n",
            " [0.64051293 1.         0.6801251  0.51767694]\n",
            " [0.80549064 0.6801251  1.         0.59947287]\n",
            " [0.54193161 0.51767694 0.59947287 1.        ]]\n"
          ]
        }
      ]
    },
    {
      "cell_type": "code",
      "source": [
        "# 3. Factorización de Cholesky de matriz de Correlación \n",
        "A=np.linalg.cholesky(CORR)\n",
        "print(A)\n",
        "print(A@A.T)"
      ],
      "metadata": {
        "colab": {
          "base_uri": "https://localhost:8080/"
        },
        "id": "Q_euPt8Do6Vn",
        "outputId": "41e1cb7e-34c6-4278-8c7c-4425d3afd073"
      },
      "execution_count": 188,
      "outputs": [
        {
          "output_type": "stream",
          "name": "stdout",
          "text": [
            "[[1.         0.         0.         0.        ]\n",
            " [0.64051293 0.76794739 0.         0.        ]\n",
            " [0.80549064 0.21381403 0.55269195 0.        ]\n",
            " [0.54193161 0.22210211 0.20891111 0.78315831]]\n",
            "[[1.         0.64051293 0.80549064 0.54193161]\n",
            " [0.64051293 1.         0.6801251  0.51767694]\n",
            " [0.80549064 0.6801251  1.         0.59947287]\n",
            " [0.54193161 0.51767694 0.59947287 1.        ]]\n"
          ]
        }
      ]
    },
    {
      "cell_type": "code",
      "source": [
        "# 4. Analizar la distribución individual de las variaciones de los factores\n",
        "\n",
        "\n",
        "# importando modulos necesarios\n",
        "import matplotlib.mlab as mlab\n",
        "import scipy\n",
        "import datetime\n",
        "import matplotlib.pyplot as plt \n",
        "import numpy as np # importando numpy\n",
        "import pandas as pd # importando pandas\n",
        "from scipy import stats\n",
        "\n",
        "%matplotlib inline"
      ],
      "metadata": {
        "id": "q_gfWWEtqufP"
      },
      "execution_count": 189,
      "outputs": []
    },
    {
      "cell_type": "code",
      "source": [
        "# Calculamos el promedio y desviación estándar de los factores de riesgo\n",
        "avg=DeltaX.mean()\n",
        "stdev=np.sqrt(DeltaX.var())\n",
        "print(avg)\n",
        "print(stdev)"
      ],
      "metadata": {
        "colab": {
          "base_uri": "https://localhost:8080/"
        },
        "id": "Im7Uw7cG5iMG",
        "outputId": "9ba62367-4a4d-47cf-961f-4eaeba3ca0f8"
      },
      "execution_count": 190,
      "outputs": [
        {
          "output_type": "stream",
          "name": "stdout",
          "text": [
            "AAPL    0.001356\n",
            "AMZN    0.000792\n",
            "MSFT    0.001044\n",
            "SQ      0.000969\n",
            "dtype: float64\n",
            "AAPL    0.023263\n",
            "AMZN    0.021536\n",
            "MSFT    0.021715\n",
            "SQ      0.042967\n",
            "dtype: float64\n"
          ]
        }
      ]
    },
    {
      "cell_type": "code",
      "source": [
        "# Obtener histogramas de distribuciones univariadas de lsd diferencias y ajustar a una función de distribución paramétrica \n",
        "\n",
        "# AAPL\n",
        "DeltaX['AAPL'].hist(bins=40, histtype=\"stepfilled\",alpha=0.5)\n",
        "x = np.linspace(avg['AAPL'] - 3*stdev['AAPL'], avg['AAPL']+3*stdev['AAPL'],100)\n",
        "plt.plot(x, scipy.stats.norm.pdf(x, avg['AAPL'], stdev['AAPL']), \"r\")\n",
        "plt.title(\"AAPL Diffs (binned) vs. normal distribution\")\n",
        "plt.show()"
      ],
      "metadata": {
        "colab": {
          "base_uri": "https://localhost:8080/",
          "height": 281
        },
        "id": "CftzNyYPr5Fd",
        "outputId": "7df879b8-6617-476c-922f-5b00ede33a19"
      },
      "execution_count": 191,
      "outputs": [
        {
          "output_type": "display_data",
          "data": {
            "image/png": "[encoded data removed]",
            "text/plain": [
              "<Figure size 432x288 with 1 Axes>"
            ]
          },
          "metadata": {
            "needs_background": "light"
          }
        }
      ]
    },
    {
      "cell_type": "code",
      "source": [
        "# AMZN\n",
        "DeltaX['AMZN'].hist(bins=40, histtype=\"stepfilled\",alpha=0.5)\n",
        "x = np.linspace(avg['AMZN'] - 3*stdev['AMZN'], avg['AMZN']+3*stdev['AMZN'],100)\n",
        "plt.plot(x, scipy.stats.norm.pdf(x, avg['AMZN'], stdev['AMZN']), \"r\")\n",
        "plt.title(\"AMZN Diffs (binned) vs. normal distribution\")\n",
        "plt.show()"
      ],
      "metadata": {
        "colab": {
          "base_uri": "https://localhost:8080/",
          "height": 281
        },
        "id": "cEQUgOVv8Nhb",
        "outputId": "bb0c4db6-4d22-448f-8790-6184e713a9d1"
      },
      "execution_count": 192,
      "outputs": [
        {
          "output_type": "display_data",
          "data": {
            "image/png": "[encoded data removed]",
            "text/plain": [
              "<Figure size 432x288 with 1 Axes>"
            ]
          },
          "metadata": {
            "needs_background": "light"
          }
        }
      ]
    },
    {
      "cell_type": "code",
      "source": [
        "# MSFT\n",
        "DeltaX['MSFT'].hist(bins=40, histtype=\"stepfilled\",alpha=0.5)\n",
        "x = np.linspace(avg['MSFT'] - 3*stdev['MSFT'], avg['MSFT']+3*stdev['MSFT'],100)\n",
        "plt.plot(x, scipy.stats.norm.pdf(x, avg['MSFT'], stdev['MSFT']), \"r\")\n",
        "plt.title(\"MSFT Diffs (binned) vs. normal distribution\")\n",
        "plt.show()"
      ],
      "metadata": {
        "colab": {
          "base_uri": "https://localhost:8080/",
          "height": 281
        },
        "id": "YH0KieyZ8pDV",
        "outputId": "3e57f36c-104f-4212-9f1c-461d8e2436a2"
      },
      "execution_count": 193,
      "outputs": [
        {
          "output_type": "display_data",
          "data": {
            "image/png": "[encoded data removed]",
            "text/plain": [
              "<Figure size 432x288 with 1 Axes>"
            ]
          },
          "metadata": {
            "needs_background": "light"
          }
        }
      ]
    },
    {
      "cell_type": "code",
      "source": [
        "# SQ\n",
        "DeltaX['SQ'].hist(bins=40, histtype=\"stepfilled\",alpha=0.5)\n",
        "x = np.linspace(avg['SQ'] - 3*stdev['SQ'], avg['SQ']+3*stdev['SQ'],100)\n",
        "plt.plot(x, scipy.stats.norm.pdf(x, avg['SQ'], stdev['SQ']), \"r\")\n",
        "plt.title(\"SQ Diffs (binned) vs. normal distribution\")\n",
        "plt.show()"
      ],
      "metadata": {
        "colab": {
          "base_uri": "https://localhost:8080/",
          "height": 281
        },
        "id": "DqAt_J988pYL",
        "outputId": "cacc9a30-2088-4235-f2b9-e93a6ef48493"
      },
      "execution_count": 195,
      "outputs": [
        {
          "output_type": "display_data",
          "data": {
            "image/png": "[encoded data removed]",
            "text/plain": [
              "<Figure size 432x288 with 1 Axes>"
            ]
          },
          "metadata": {
            "needs_background": "light"
          }
        }
      ]
    },
    {
      "cell_type": "code",
      "source": [
        "# 5. Calcular matriz S de dimensión Nxm usando la inversa de la distribución empírica\n",
        "N=10000\n",
        "m=4\n",
        "alfa=np.random.uniform(0,1,[N,m]).T\n",
        "S=np.quantile(DeltaX.dropna().T,alfa).T\n",
        "print(S)"
      ],
      "metadata": {
        "colab": {
          "base_uri": "https://localhost:8080/"
        },
        "id": "Qd7bzka4F1jr",
        "outputId": "fa99965c-3ce6-4cf9-ffae-7339dc9b2b48"
      },
      "execution_count": 196,
      "outputs": [
        {
          "output_type": "stream",
          "name": "stdout",
          "text": [
            "[[ 0.00067681  0.02039072 -0.00668404  0.00481301]\n",
            " [ 0.02589741  0.01939961 -0.02995689  0.00779188]\n",
            " [ 0.00480414  0.01629479 -0.05519331  0.00274619]\n",
            " ...\n",
            " [ 0.01479254  0.01190648  0.00212131 -0.00458279]\n",
            " [-0.00467443 -0.00659902  0.00427476 -0.00165112]\n",
            " [ 0.00979955  0.01105215  0.0320958  -0.02584288]]\n"
          ]
        }
      ]
    },
    {
      "cell_type": "code",
      "source": [
        "# 6. Calcular matriz DX = S@A.T\n",
        "DX = S@A.T\n",
        "print(DX)"
      ],
      "metadata": {
        "colab": {
          "base_uri": "https://localhost:8080/"
        },
        "id": "pOzNyZXjs3ux",
        "outputId": "5e9f1a65-b2af-4f3e-d20d-27937a273bee"
      },
      "execution_count": 197,
      "outputs": [
        {
          "output_type": "stream",
          "name": "stdout",
          "text": [
            "[[ 0.00067681  0.0160925   0.00121077  0.00726859]\n",
            " [ 0.02589741  0.0314855   0.0084511   0.01818727]\n",
            " [ 0.00480414  0.01559065 -0.02315116 -0.00315717]\n",
            " ...\n",
            " [ 0.01479254  0.01861836  0.01563345  0.00751512]\n",
            " [-0.00467443 -0.00806173 -0.00281355 -0.00439892]\n",
            " [ 0.00979955  0.01476421  0.02799564 -0.0057685 ]]\n"
          ]
        }
      ]
    },
    {
      "cell_type": "code",
      "source": [
        "# 7. Construir  𝑋𝑠𝑁×𝑚  que es la matriz de factores de riesgo simulada basada en el vector de precios actual  𝑋00\n",
        "Xs=np.zeros((N,m))\n",
        "for i in range(N):\n",
        "  Xs[i,:]=np.exp(DX[i,:])*X0\n",
        "X_s=pd.DataFrame(Xs)\n",
        "X_s.columns=['AAPL','AMZN','MSFT','SQ']\n",
        "X_s.head()\n",
        "print(X_s)"
      ],
      "metadata": {
        "id": "UYZ4juXWt-PY",
        "outputId": "fd6394af-1171-4edd-c1ed-289ffa508e93",
        "colab": {
          "base_uri": "https://localhost:8080/"
        }
      },
      "execution_count": 201,
      "outputs": [
        {
          "output_type": "stream",
          "name": "stdout",
          "text": [
            "            AAPL         AMZN        MSFT          SQ\n",
            "0     158.627328  2983.985584  285.935990  109.664217\n",
            "1     162.678882  3030.273414  288.013772  110.868166\n",
            "2     159.283388  2982.488430  279.054205  108.526823\n",
            "3     157.837597  2992.054778  283.177910  109.996213\n",
            "4     160.272512  3108.512882  293.157300  113.044757\n",
            "...          ...          ...         ...         ...\n",
            "9995  155.607863  2889.962393  279.996050  107.153601\n",
            "9996  154.769254  2905.855871  276.851151  106.130133\n",
            "9997  160.882347  2991.532242  290.089837  109.691256\n",
            "9998  157.780742  2912.773193  284.787605  108.392144\n",
            "9999  160.081066  2980.024610  293.698240  108.243794\n",
            "\n",
            "[10000 rows x 4 columns]\n"
          ]
        }
      ]
    },
    {
      "cell_type": "code",
      "source": [
        "# 8. Construir matriz de reevaluación del portafolio basada en los escenarios históricos\n",
        "M=np.array([1000,5000,2000,100])\n",
        "\n",
        "#Valoración\n",
        "Y0=X0.squeeze()*M\n",
        "Y0\n",
        "\n",
        "Y_s=X_s*M.squeeze()\n",
        "Y_s.head()"
      ],
      "metadata": {
        "colab": {
          "base_uri": "https://localhost:8080/",
          "height": 206
        },
        "id": "P671qeQf8MwF",
        "outputId": "791c90d7-e858-4586-fb4c-9c492374d8f2"
      },
      "execution_count": 202,
      "outputs": [
        {
          "output_type": "execute_result",
          "data": {
            "text/html": [
              "\n",
              "  <div id=\"df-e69dc01c-ff34-41ef-b2dc-258003c0842c\">\n",
              "    <div class=\"colab-df-container\">\n",
              "      <div>\n",
              "<style scoped>\n",
              "    .dataframe tbody tr th:only-of-type {\n",
              "        vertical-align: middle;\n",
              "    }\n",
              "\n",
              "    .dataframe tbody tr th {\n",
              "        vertical-align: top;\n",
              "    }\n",
              "\n",
              "    .dataframe thead th {\n",
              "        text-align: right;\n",
              "    }\n",
              "</style>\n",
              "<table border=\"1\" class=\"dataframe\">\n",
              "  <thead>\n",
              "    <tr style=\"text-align: right;\">\n",
              "      <th></th>\n",
              "      <th>AAPL</th>\n",
              "      <th>AMZN</th>\n",
              "      <th>MSFT</th>\n",
              "      <th>SQ</th>\n",
              "    </tr>\n",
              "  </thead>\n",
              "  <tbody>\n",
              "    <tr>\n",
              "      <th>0</th>\n",
              "      <td>158627.328389</td>\n",
              "      <td>1.491993e+07</td>\n",
              "      <td>571871.980506</td>\n",
              "      <td>10966.421685</td>\n",
              "    </tr>\n",
              "    <tr>\n",
              "      <th>1</th>\n",
              "      <td>162678.881550</td>\n",
              "      <td>1.515137e+07</td>\n",
              "      <td>576027.544595</td>\n",
              "      <td>11086.816602</td>\n",
              "    </tr>\n",
              "    <tr>\n",
              "      <th>2</th>\n",
              "      <td>159283.388164</td>\n",
              "      <td>1.491244e+07</td>\n",
              "      <td>558108.410688</td>\n",
              "      <td>10852.682338</td>\n",
              "    </tr>\n",
              "    <tr>\n",
              "      <th>3</th>\n",
              "      <td>157837.597462</td>\n",
              "      <td>1.496027e+07</td>\n",
              "      <td>566355.820669</td>\n",
              "      <td>10999.621315</td>\n",
              "    </tr>\n",
              "    <tr>\n",
              "      <th>4</th>\n",
              "      <td>160272.511579</td>\n",
              "      <td>1.554256e+07</td>\n",
              "      <td>586314.599748</td>\n",
              "      <td>11304.475710</td>\n",
              "    </tr>\n",
              "  </tbody>\n",
              "</table>\n",
              "</div>\n",
              "      <button class=\"colab-df-convert\" onclick=\"convertToInteractive('df-e69dc01c-ff34-41ef-b2dc-258003c0842c')\"\n",
              "              title=\"Convert this dataframe to an interactive table.\"\n",
              "              style=\"display:none;\">\n",
              "        \n",
              "  <svg xmlns=\"http://www.w3.org/2000/svg\" height=\"24px\"viewBox=\"0 0 24 24\"\n",
              "       width=\"24px\">\n",
              "    <path d=\"M0 0h24v24H0V0z\" fill=\"none\"/>\n",
              "    <path d=\"M18.56 5.44l.94 2.06.94-2.06 2.06-.94-2.06-.94-.94-2.06-.94 2.06-2.06.94zm-11 1L8.5 8.5l.94-2.06 2.06-.94-2.06-.94L8.5 2.5l-.94 2.06-2.06.94zm10 10l.94 2.06.94-2.06 2.06-.94-2.06-.94-.94-2.06-.94 2.06-2.06.94z\"/><path d=\"M17.41 7.96l-1.37-1.37c-.4-.4-.92-.59-1.43-.59-.52 0-1.04.2-1.43.59L10.3 9.45l-7.72 7.72c-.78.78-.78 2.05 0 2.83L4 21.41c.39.39.9.59 1.41.59.51 0 1.02-.2 1.41-.59l7.78-7.78 2.81-2.81c.8-.78.8-2.07 0-2.86zM5.41 20L4 18.59l7.72-7.72 1.47 1.35L5.41 20z\"/>\n",
              "  </svg>\n",
              "      </button>\n",
              "      \n",
              "  <style>\n",
              "    .colab-df-container {\n",
              "      display:flex;\n",
              "      flex-wrap:wrap;\n",
              "      gap: 12px;\n",
              "    }\n",
              "\n",
              "    .colab-df-convert {\n",
              "      background-color: #E8F0FE;\n",
              "      border: none;\n",
              "      border-radius: 50%;\n",
              "      cursor: pointer;\n",
              "      display: none;\n",
              "      fill: #1967D2;\n",
              "      height: 32px;\n",
              "      padding: 0 0 0 0;\n",
              "      width: 32px;\n",
              "    }\n",
              "\n",
              "    .colab-df-convert:hover {\n",
              "      background-color: #E2EBFA;\n",
              "      box-shadow: 0px 1px 2px rgba(60, 64, 67, 0.3), 0px 1px 3px 1px rgba(60, 64, 67, 0.15);\n",
              "      fill: #174EA6;\n",
              "    }\n",
              "\n",
              "    [theme=dark] .colab-df-convert {\n",
              "      background-color: #3B4455;\n",
              "      fill: #D2E3FC;\n",
              "    }\n",
              "\n",
              "    [theme=dark] .colab-df-convert:hover {\n",
              "      background-color: #434B5C;\n",
              "      box-shadow: 0px 1px 3px 1px rgba(0, 0, 0, 0.15);\n",
              "      filter: drop-shadow(0px 1px 2px rgba(0, 0, 0, 0.3));\n",
              "      fill: #FFFFFF;\n",
              "    }\n",
              "  </style>\n",
              "\n",
              "      <script>\n",
              "        const buttonEl =\n",
              "          document.querySelector('#df-e69dc01c-ff34-41ef-b2dc-258003c0842c button.colab-df-convert');\n",
              "        buttonEl.style.display =\n",
              "          google.colab.kernel.accessAllowed ? 'block' : 'none';\n",
              "\n",
              "        async function convertToInteractive(key) {\n",
              "          const element = document.querySelector('#df-e69dc01c-ff34-41ef-b2dc-258003c0842c');\n",
              "          const dataTable =\n",
              "            await google.colab.kernel.invokeFunction('convertToInteractive',\n",
              "                                                     [key], {});\n",
              "          if (!dataTable) return;\n",
              "\n",
              "          const docLinkHtml = 'Like what you see? Visit the ' +\n",
              "            '<a target=\"_blank\" href=https://colab.research.google.com/notebooks/data_table.ipynb>data table notebook</a>'\n",
              "            + ' to learn more about interactive tables.';\n",
              "          element.innerHTML = '';\n",
              "          dataTable['output_type'] = 'display_data';\n",
              "          await google.colab.output.renderOutput(dataTable, element);\n",
              "          const docLink = document.createElement('div');\n",
              "          docLink.innerHTML = docLinkHtml;\n",
              "          element.appendChild(docLink);\n",
              "        }\n",
              "      </script>\n",
              "    </div>\n",
              "  </div>\n",
              "  "
            ],
            "text/plain": [
              "            AAPL          AMZN           MSFT            SQ\n",
              "0  158627.328389  1.491993e+07  571871.980506  10966.421685\n",
              "1  162678.881550  1.515137e+07  576027.544595  11086.816602\n",
              "2  159283.388164  1.491244e+07  558108.410688  10852.682338\n",
              "3  157837.597462  1.496027e+07  566355.820669  10999.621315\n",
              "4  160272.511579  1.554256e+07  586314.599748  11304.475710"
            ]
          },
          "metadata": {},
          "execution_count": 202
        }
      ]
    },
    {
      "cell_type": "code",
      "source": [
        "# 9. Construcción de la matriz de pérdidas y ganancias del portafolio basada en los escenarios históricos\n",
        "PL=Y_s-Y0\n",
        "\n",
        "cols=PL.shape[1]\n",
        "\n",
        "PL['Total']=PL.sum(axis=1)\n",
        "PL.head()"
      ],
      "metadata": {
        "id": "ARYxTuHkeapC",
        "outputId": "6e7fa859-3390-4f74-fcc5-def774e26c08",
        "colab": {
          "base_uri": "https://localhost:8080/",
          "height": 206
        }
      },
      "execution_count": 204,
      "outputs": [
        {
          "output_type": "execute_result",
          "data": {
            "text/html": [
              "\n",
              "  <div id=\"df-62777147-86aa-408d-b763-8067770e8fd1\">\n",
              "    <div class=\"colab-df-container\">\n",
              "      <div>\n",
              "<style scoped>\n",
              "    .dataframe tbody tr th:only-of-type {\n",
              "        vertical-align: middle;\n",
              "    }\n",
              "\n",
              "    .dataframe tbody tr th {\n",
              "        vertical-align: top;\n",
              "    }\n",
              "\n",
              "    .dataframe thead th {\n",
              "        text-align: right;\n",
              "    }\n",
              "</style>\n",
              "<table border=\"1\" class=\"dataframe\">\n",
              "  <thead>\n",
              "    <tr style=\"text-align: right;\">\n",
              "      <th></th>\n",
              "      <th>AAPL</th>\n",
              "      <th>AMZN</th>\n",
              "      <th>MSFT</th>\n",
              "      <th>SQ</th>\n",
              "      <th>Total</th>\n",
              "    </tr>\n",
              "  </thead>\n",
              "  <tbody>\n",
              "    <tr>\n",
              "      <th>0</th>\n",
              "      <td>107.324116</td>\n",
              "      <td>238177.429431</td>\n",
              "      <td>691.987831</td>\n",
              "      <td>79.421411</td>\n",
              "      <td>239056.162789</td>\n",
              "    </tr>\n",
              "    <tr>\n",
              "      <th>1</th>\n",
              "      <td>4158.877277</td>\n",
              "      <td>469616.579583</td>\n",
              "      <td>4847.551919</td>\n",
              "      <td>199.816327</td>\n",
              "      <td>478822.825107</td>\n",
              "    </tr>\n",
              "    <tr>\n",
              "      <th>2</th>\n",
              "      <td>763.383892</td>\n",
              "      <td>230691.663443</td>\n",
              "      <td>-13071.581988</td>\n",
              "      <td>-34.317936</td>\n",
              "      <td>218349.147411</td>\n",
              "    </tr>\n",
              "    <tr>\n",
              "      <th>3</th>\n",
              "      <td>-682.406811</td>\n",
              "      <td>278523.402711</td>\n",
              "      <td>-4824.172007</td>\n",
              "      <td>112.621041</td>\n",
              "      <td>273129.444935</td>\n",
              "    </tr>\n",
              "    <tr>\n",
              "      <th>4</th>\n",
              "      <td>1752.507307</td>\n",
              "      <td>860813.920299</td>\n",
              "      <td>15134.607072</td>\n",
              "      <td>417.475435</td>\n",
              "      <td>878118.510113</td>\n",
              "    </tr>\n",
              "  </tbody>\n",
              "</table>\n",
              "</div>\n",
              "      <button class=\"colab-df-convert\" onclick=\"convertToInteractive('df-62777147-86aa-408d-b763-8067770e8fd1')\"\n",
              "              title=\"Convert this dataframe to an interactive table.\"\n",
              "              style=\"display:none;\">\n",
              "        \n",
              "  <svg xmlns=\"http://www.w3.org/2000/svg\" height=\"24px\"viewBox=\"0 0 24 24\"\n",
              "       width=\"24px\">\n",
              "    <path d=\"M0 0h24v24H0V0z\" fill=\"none\"/>\n",
              "    <path d=\"M18.56 5.44l.94 2.06.94-2.06 2.06-.94-2.06-.94-.94-2.06-.94 2.06-2.06.94zm-11 1L8.5 8.5l.94-2.06 2.06-.94-2.06-.94L8.5 2.5l-.94 2.06-2.06.94zm10 10l.94 2.06.94-2.06 2.06-.94-2.06-.94-.94-2.06-.94 2.06-2.06.94z\"/><path d=\"M17.41 7.96l-1.37-1.37c-.4-.4-.92-.59-1.43-.59-.52 0-1.04.2-1.43.59L10.3 9.45l-7.72 7.72c-.78.78-.78 2.05 0 2.83L4 21.41c.39.39.9.59 1.41.59.51 0 1.02-.2 1.41-.59l7.78-7.78 2.81-2.81c.8-.78.8-2.07 0-2.86zM5.41 20L4 18.59l7.72-7.72 1.47 1.35L5.41 20z\"/>\n",
              "  </svg>\n",
              "      </button>\n",
              "      \n",
              "  <style>\n",
              "    .colab-df-container {\n",
              "      display:flex;\n",
              "      flex-wrap:wrap;\n",
              "      gap: 12px;\n",
              "    }\n",
              "\n",
              "    .colab-df-convert {\n",
              "      background-color: #E8F0FE;\n",
              "      border: none;\n",
              "      border-radius: 50%;\n",
              "      cursor: pointer;\n",
              "      display: none;\n",
              "      fill: #1967D2;\n",
              "      height: 32px;\n",
              "      padding: 0 0 0 0;\n",
              "      width: 32px;\n",
              "    }\n",
              "\n",
              "    .colab-df-convert:hover {\n",
              "      background-color: #E2EBFA;\n",
              "      box-shadow: 0px 1px 2px rgba(60, 64, 67, 0.3), 0px 1px 3px 1px rgba(60, 64, 67, 0.15);\n",
              "      fill: #174EA6;\n",
              "    }\n",
              "\n",
              "    [theme=dark] .colab-df-convert {\n",
              "      background-color: #3B4455;\n",
              "      fill: #D2E3FC;\n",
              "    }\n",
              "\n",
              "    [theme=dark] .colab-df-convert:hover {\n",
              "      background-color: #434B5C;\n",
              "      box-shadow: 0px 1px 3px 1px rgba(0, 0, 0, 0.15);\n",
              "      filter: drop-shadow(0px 1px 2px rgba(0, 0, 0, 0.3));\n",
              "      fill: #FFFFFF;\n",
              "    }\n",
              "  </style>\n",
              "\n",
              "      <script>\n",
              "        const buttonEl =\n",
              "          document.querySelector('#df-62777147-86aa-408d-b763-8067770e8fd1 button.colab-df-convert');\n",
              "        buttonEl.style.display =\n",
              "          google.colab.kernel.accessAllowed ? 'block' : 'none';\n",
              "\n",
              "        async function convertToInteractive(key) {\n",
              "          const element = document.querySelector('#df-62777147-86aa-408d-b763-8067770e8fd1');\n",
              "          const dataTable =\n",
              "            await google.colab.kernel.invokeFunction('convertToInteractive',\n",
              "                                                     [key], {});\n",
              "          if (!dataTable) return;\n",
              "\n",
              "          const docLinkHtml = 'Like what you see? Visit the ' +\n",
              "            '<a target=\"_blank\" href=https://colab.research.google.com/notebooks/data_table.ipynb>data table notebook</a>'\n",
              "            + ' to learn more about interactive tables.';\n",
              "          element.innerHTML = '';\n",
              "          dataTable['output_type'] = 'display_data';\n",
              "          await google.colab.output.renderOutput(dataTable, element);\n",
              "          const docLink = document.createElement('div');\n",
              "          docLink.innerHTML = docLinkHtml;\n",
              "          element.appendChild(docLink);\n",
              "        }\n",
              "      </script>\n",
              "    </div>\n",
              "  </div>\n",
              "  "
            ],
            "text/plain": [
              "          AAPL           AMZN          MSFT          SQ          Total\n",
              "0   107.324116  238177.429431    691.987831   79.421411  239056.162789\n",
              "1  4158.877277  469616.579583   4847.551919  199.816327  478822.825107\n",
              "2   763.383892  230691.663443 -13071.581988  -34.317936  218349.147411\n",
              "3  -682.406811  278523.402711  -4824.172007  112.621041  273129.444935\n",
              "4  1752.507307  860813.920299  15134.607072  417.475435  878118.510113"
            ]
          },
          "metadata": {},
          "execution_count": 204
        }
      ]
    },
    {
      "cell_type": "code",
      "source": [
        "# 10. Obtener las medidas de riesgo\n",
        "alpha = 0.98 #@param {type:\"slider\", min:0.8, max:1, step:0.001}\n",
        "\n",
        "#VaR\n",
        "VaR=PL.quantile(1-alpha, numeric_only=False)\n",
        "print(\"VaR de P&L\")\n",
        "print(VaR)\n",
        "#print(sum(Y0))"
      ],
      "metadata": {
        "id": "r-UaX7vpe2-p",
        "outputId": "d3058206-dad9-42a4-de36-c13e1a75f199",
        "colab": {
          "base_uri": "https://localhost:8080/"
        }
      },
      "execution_count": 210,
      "outputs": [
        {
          "output_type": "stream",
          "name": "stdout",
          "text": [
            "VaR de P&L\n",
            "AAPL      -9593.363882\n",
            "AMZN    -863380.353100\n",
            "MSFT     -32067.702645\n",
            "SQ         -610.641153\n",
            "Total   -884501.105204\n",
            "Name: 0.020000000000000018, dtype: float64\n"
          ]
        }
      ]
    },
    {
      "cell_type": "code",
      "source": [
        "#CVAR\n",
        "def VaR_Cond(x , VaR ):\n",
        "  return np.mean(x[x <= VaR])\n",
        "\n",
        "\n",
        "VaR_C=[]\n",
        "\n",
        "for i in range(0,PL.shape[1]):\n",
        "  VC=VaR_Cond(PL.iloc[:,i],VaR[i])\n",
        "  VaR_C.append(VC)\n",
        "\n",
        "print(\"VaRC de P&L\")\n",
        "print(VaR_C)\n",
        "\n",
        "pd.concat([VaR,pd.DataFrame(VaR_C).squeeze()], axis=1, ignore_index=True)"
      ],
      "metadata": {
        "id": "HhcbpVpJgKk0",
        "outputId": "12dc0e7b-5472-4c30-a5a0-afb05b5bce8d",
        "colab": {
          "base_uri": "https://localhost:8080/",
          "height": 398
        }
      },
      "execution_count": 211,
      "outputs": [
        {
          "output_type": "stream",
          "name": "stdout",
          "text": [
            "VaRC de P&L\n",
            "[-12889.921557101037, -1179901.820857979, -43145.90361786368, -832.3750134039275, -1214384.072528997]\n"
          ]
        },
        {
          "output_type": "execute_result",
          "data": {
            "text/html": [
              "\n",
              "  <div id=\"df-6611171c-a22a-4260-bcdc-2aa66dee7091\">\n",
              "    <div class=\"colab-df-container\">\n",
              "      <div>\n",
              "<style scoped>\n",
              "    .dataframe tbody tr th:only-of-type {\n",
              "        vertical-align: middle;\n",
              "    }\n",
              "\n",
              "    .dataframe tbody tr th {\n",
              "        vertical-align: top;\n",
              "    }\n",
              "\n",
              "    .dataframe thead th {\n",
              "        text-align: right;\n",
              "    }\n",
              "</style>\n",
              "<table border=\"1\" class=\"dataframe\">\n",
              "  <thead>\n",
              "    <tr style=\"text-align: right;\">\n",
              "      <th></th>\n",
              "      <th>0</th>\n",
              "      <th>1</th>\n",
              "    </tr>\n",
              "  </thead>\n",
              "  <tbody>\n",
              "    <tr>\n",
              "      <th>AAPL</th>\n",
              "      <td>-9593.363882</td>\n",
              "      <td>NaN</td>\n",
              "    </tr>\n",
              "    <tr>\n",
              "      <th>AMZN</th>\n",
              "      <td>-863380.353100</td>\n",
              "      <td>NaN</td>\n",
              "    </tr>\n",
              "    <tr>\n",
              "      <th>MSFT</th>\n",
              "      <td>-32067.702645</td>\n",
              "      <td>NaN</td>\n",
              "    </tr>\n",
              "    <tr>\n",
              "      <th>SQ</th>\n",
              "      <td>-610.641153</td>\n",
              "      <td>NaN</td>\n",
              "    </tr>\n",
              "    <tr>\n",
              "      <th>Total</th>\n",
              "      <td>-884501.105204</td>\n",
              "      <td>NaN</td>\n",
              "    </tr>\n",
              "    <tr>\n",
              "      <th>0</th>\n",
              "      <td>NaN</td>\n",
              "      <td>-1.288992e+04</td>\n",
              "    </tr>\n",
              "    <tr>\n",
              "      <th>1</th>\n",
              "      <td>NaN</td>\n",
              "      <td>-1.179902e+06</td>\n",
              "    </tr>\n",
              "    <tr>\n",
              "      <th>2</th>\n",
              "      <td>NaN</td>\n",
              "      <td>-4.314590e+04</td>\n",
              "    </tr>\n",
              "    <tr>\n",
              "      <th>3</th>\n",
              "      <td>NaN</td>\n",
              "      <td>-8.323750e+02</td>\n",
              "    </tr>\n",
              "    <tr>\n",
              "      <th>4</th>\n",
              "      <td>NaN</td>\n",
              "      <td>-1.214384e+06</td>\n",
              "    </tr>\n",
              "  </tbody>\n",
              "</table>\n",
              "</div>\n",
              "      <button class=\"colab-df-convert\" onclick=\"convertToInteractive('df-6611171c-a22a-4260-bcdc-2aa66dee7091')\"\n",
              "              title=\"Convert this dataframe to an interactive table.\"\n",
              "              style=\"display:none;\">\n",
              "        \n",
              "  <svg xmlns=\"http://www.w3.org/2000/svg\" height=\"24px\"viewBox=\"0 0 24 24\"\n",
              "       width=\"24px\">\n",
              "    <path d=\"M0 0h24v24H0V0z\" fill=\"none\"/>\n",
              "    <path d=\"M18.56 5.44l.94 2.06.94-2.06 2.06-.94-2.06-.94-.94-2.06-.94 2.06-2.06.94zm-11 1L8.5 8.5l.94-2.06 2.06-.94-2.06-.94L8.5 2.5l-.94 2.06-2.06.94zm10 10l.94 2.06.94-2.06 2.06-.94-2.06-.94-.94-2.06-.94 2.06-2.06.94z\"/><path d=\"M17.41 7.96l-1.37-1.37c-.4-.4-.92-.59-1.43-.59-.52 0-1.04.2-1.43.59L10.3 9.45l-7.72 7.72c-.78.78-.78 2.05 0 2.83L4 21.41c.39.39.9.59 1.41.59.51 0 1.02-.2 1.41-.59l7.78-7.78 2.81-2.81c.8-.78.8-2.07 0-2.86zM5.41 20L4 18.59l7.72-7.72 1.47 1.35L5.41 20z\"/>\n",
              "  </svg>\n",
              "      </button>\n",
              "      \n",
              "  <style>\n",
              "    .colab-df-container {\n",
              "      display:flex;\n",
              "      flex-wrap:wrap;\n",
              "      gap: 12px;\n",
              "    }\n",
              "\n",
              "    .colab-df-convert {\n",
              "      background-color: #E8F0FE;\n",
              "      border: none;\n",
              "      border-radius: 50%;\n",
              "      cursor: pointer;\n",
              "      display: none;\n",
              "      fill: #1967D2;\n",
              "      height: 32px;\n",
              "      padding: 0 0 0 0;\n",
              "      width: 32px;\n",
              "    }\n",
              "\n",
              "    .colab-df-convert:hover {\n",
              "      background-color: #E2EBFA;\n",
              "      box-shadow: 0px 1px 2px rgba(60, 64, 67, 0.3), 0px 1px 3px 1px rgba(60, 64, 67, 0.15);\n",
              "      fill: #174EA6;\n",
              "    }\n",
              "\n",
              "    [theme=dark] .colab-df-convert {\n",
              "      background-color: #3B4455;\n",
              "      fill: #D2E3FC;\n",
              "    }\n",
              "\n",
              "    [theme=dark] .colab-df-convert:hover {\n",
              "      background-color: #434B5C;\n",
              "      box-shadow: 0px 1px 3px 1px rgba(0, 0, 0, 0.15);\n",
              "      filter: drop-shadow(0px 1px 2px rgba(0, 0, 0, 0.3));\n",
              "      fill: #FFFFFF;\n",
              "    }\n",
              "  </style>\n",
              "\n",
              "      <script>\n",
              "        const buttonEl =\n",
              "          document.querySelector('#df-6611171c-a22a-4260-bcdc-2aa66dee7091 button.colab-df-convert');\n",
              "        buttonEl.style.display =\n",
              "          google.colab.kernel.accessAllowed ? 'block' : 'none';\n",
              "\n",
              "        async function convertToInteractive(key) {\n",
              "          const element = document.querySelector('#df-6611171c-a22a-4260-bcdc-2aa66dee7091');\n",
              "          const dataTable =\n",
              "            await google.colab.kernel.invokeFunction('convertToInteractive',\n",
              "                                                     [key], {});\n",
              "          if (!dataTable) return;\n",
              "\n",
              "          const docLinkHtml = 'Like what you see? Visit the ' +\n",
              "            '<a target=\"_blank\" href=https://colab.research.google.com/notebooks/data_table.ipynb>data table notebook</a>'\n",
              "            + ' to learn more about interactive tables.';\n",
              "          element.innerHTML = '';\n",
              "          dataTable['output_type'] = 'display_data';\n",
              "          await google.colab.output.renderOutput(dataTable, element);\n",
              "          const docLink = document.createElement('div');\n",
              "          docLink.innerHTML = docLinkHtml;\n",
              "          element.appendChild(docLink);\n",
              "        }\n",
              "      </script>\n",
              "    </div>\n",
              "  </div>\n",
              "  "
            ],
            "text/plain": [
              "                   0             1\n",
              "AAPL    -9593.363882           NaN\n",
              "AMZN  -863380.353100           NaN\n",
              "MSFT   -32067.702645           NaN\n",
              "SQ       -610.641153           NaN\n",
              "Total -884501.105204           NaN\n",
              "0                NaN -1.288992e+04\n",
              "1                NaN -1.179902e+06\n",
              "2                NaN -4.314590e+04\n",
              "3                NaN -8.323750e+02\n",
              "4                NaN -1.214384e+06"
            ]
          },
          "metadata": {},
          "execution_count": 211
        }
      ]
    },
    {
      "cell_type": "code",
      "source": [
        "# Media y desviación estándar \n",
        "avgPL=PL.mean()\n",
        "stdevPL=np.sqrt(PL.var())\n",
        "print(\"Media de P&L\")\n",
        "print(avgPL)\n",
        "print(\"Desviación estándar de P&L\")\n",
        "print(stdevPL)"
      ],
      "metadata": {
        "id": "1ldFYo1B2Sbc",
        "outputId": "5451da4f-7302-484b-aa7a-152526d60d7b",
        "colab": {
          "base_uri": "https://localhost:8080/"
        }
      },
      "execution_count": 209,
      "outputs": [
        {
          "output_type": "stream",
          "name": "stdout",
          "text": [
            "Media de P&L\n",
            "AAPL       219.326570\n",
            "AMZN     28077.759153\n",
            "MSFT      1155.077785\n",
            "SQ          27.077266\n",
            "Total    29479.240773\n",
            "dtype: float64\n",
            "Desviación estándar de P&L\n",
            "AAPL       4362.710966\n",
            "AMZN     417584.585419\n",
            "MSFT      15762.362179\n",
            "SQ          305.745367\n",
            "Total    431407.396840\n",
            "dtype: float64\n"
          ]
        }
      ]
    }
  ]
}